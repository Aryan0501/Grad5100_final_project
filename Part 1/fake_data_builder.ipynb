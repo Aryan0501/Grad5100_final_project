{
 "cells": [
  {
   "cell_type": "code",
   "execution_count": 52,
   "id": "459fcd9b",
   "metadata": {},
   "outputs": [],
   "source": [
    "import numpy as np\n",
    "import pandas as pd\n",
    "import random\n",
    "import scipy.stats as sps\n",
    "import matplotlib.pyplot as plt\n",
    "\n",
    "random.seed(88)  "
   ]
  },
  {
   "cell_type": "markdown",
   "id": "50edfa34",
   "metadata": {},
   "source": [
    "### Creating Dataframe"
   ]
  },
  {
   "cell_type": "code",
   "execution_count": 53,
   "id": "ccc476df",
   "metadata": {},
   "outputs": [],
   "source": [
    "n=800\n",
    "id_feature=list(\"ID\"+str(i+100) for i in range(1,n+1))\n",
    "random.shuffle(id_feature)\n",
    "\n",
    "#Creating GroupA, B and C and then shuffling them\n",
    "\n",
    "Group= np.repeat(['A', 'B', 'C'], repeats=[267, 267, 266])\n",
    "random.shuffle(Group)"
   ]
  },
  {
   "cell_type": "code",
   "execution_count": 54,
   "id": "9b7c5477",
   "metadata": {},
   "outputs": [
    {
     "data": {
      "text/plain": [
       "2526.402682623192"
      ]
     },
     "execution_count": 54,
     "metadata": {},
     "output_type": "execute_result"
    }
   ],
   "source": [
    "# Feature 1\n",
    "mean = 2500\n",
    "std = 300\n",
    "feature_1 = sps.norm.rvs(mean, std, size=n)\n",
    "feature_1.mean()"
   ]
  },
  {
   "cell_type": "code",
   "execution_count": 55,
   "id": "163d4f09",
   "metadata": {},
   "outputs": [
    {
     "data": {
      "text/plain": [
       "400.09902034855173"
      ]
     },
     "execution_count": 55,
     "metadata": {},
     "output_type": "execute_result"
    }
   ],
   "source": [
    "# Feature 2\n",
    "mean_2 = 400\n",
    "std_2 = 15\n",
    "feature_2 = sps.norm.rvs(mean_2, std_2, size=n)\n",
    "feature_2.mean()"
   ]
  },
  {
   "cell_type": "code",
   "execution_count": 56,
   "id": "519cebaa",
   "metadata": {},
   "outputs": [
    {
     "data": {
      "text/plain": [
       "A    267\n",
       "B    267\n",
       "C    266\n",
       "Name: Group, dtype: int64"
      ]
     },
     "execution_count": 56,
     "metadata": {},
     "output_type": "execute_result"
    }
   ],
   "source": [
    "# Dataframe\n",
    "data = pd.DataFrame({\"ID\":id_feature,\"Group\":groups,\"Feature_1\":feature_1,\"Feature_2\":feature_2})\n",
    "data['Group'].value_counts()"
   ]
  },
  {
   "cell_type": "code",
   "execution_count": 57,
   "id": "7404d0cd",
   "metadata": {},
   "outputs": [],
   "source": [
    "# Feature 3\n",
    "data['Feature_3'] = np.nan\n",
    "data.loc[data['Group'] == 'A', 'Feature_3'] = 3 * data['Feature_1'] - 5 * data['Feature_2']\n",
    "data.loc[data['Group'] == 'B', 'Feature_3'] = 2 * data['Feature_1']\n",
    "data.loc[data['Group'] == 'C', 'Feature_3'] = -data['Feature_1'] + data['Feature_2']"
   ]
  },
  {
   "cell_type": "code",
   "execution_count": 58,
   "id": "9882cb2b",
   "metadata": {},
   "outputs": [],
   "source": [
    "# Adding noise to Feature 3\n",
    "mean_3 = 0\n",
    "std_3 = 12\n",
    "condition = sps.norm.rvs(mean_3, std_3, size=n)\n",
    "data['Feature_3'] += condition\n"
   ]
  },
  {
   "cell_type": "code",
   "execution_count": 59,
   "id": "f22a2d60",
   "metadata": {},
   "outputs": [
    {
     "data": {
      "text/html": [
       "<div>\n",
       "<style scoped>\n",
       "    .dataframe tbody tr th:only-of-type {\n",
       "        vertical-align: middle;\n",
       "    }\n",
       "\n",
       "    .dataframe tbody tr th {\n",
       "        vertical-align: top;\n",
       "    }\n",
       "\n",
       "    .dataframe thead th {\n",
       "        text-align: right;\n",
       "    }\n",
       "</style>\n",
       "<table border=\"1\" class=\"dataframe\">\n",
       "  <thead>\n",
       "    <tr style=\"text-align: right;\">\n",
       "      <th></th>\n",
       "      <th>ID</th>\n",
       "      <th>Group</th>\n",
       "      <th>Feature_1</th>\n",
       "      <th>Feature_2</th>\n",
       "      <th>Feature_3</th>\n",
       "    </tr>\n",
       "  </thead>\n",
       "  <tbody>\n",
       "    <tr>\n",
       "      <th>0</th>\n",
       "      <td>ID387</td>\n",
       "      <td>A</td>\n",
       "      <td>2763.201008</td>\n",
       "      <td>393.036013</td>\n",
       "      <td>6331.431994</td>\n",
       "    </tr>\n",
       "    <tr>\n",
       "      <th>1</th>\n",
       "      <td>ID537</td>\n",
       "      <td>A</td>\n",
       "      <td>2769.151428</td>\n",
       "      <td>430.985819</td>\n",
       "      <td>6166.437079</td>\n",
       "    </tr>\n",
       "    <tr>\n",
       "      <th>2</th>\n",
       "      <td>ID789</td>\n",
       "      <td>B</td>\n",
       "      <td>2184.810293</td>\n",
       "      <td>433.555808</td>\n",
       "      <td>4375.894975</td>\n",
       "    </tr>\n",
       "    <tr>\n",
       "      <th>3</th>\n",
       "      <td>ID535</td>\n",
       "      <td>A</td>\n",
       "      <td>2901.237104</td>\n",
       "      <td>386.468786</td>\n",
       "      <td>6793.707033</td>\n",
       "    </tr>\n",
       "    <tr>\n",
       "      <th>4</th>\n",
       "      <td>ID486</td>\n",
       "      <td>B</td>\n",
       "      <td>1997.882472</td>\n",
       "      <td>407.428128</td>\n",
       "      <td>3988.636126</td>\n",
       "    </tr>\n",
       "  </tbody>\n",
       "</table>\n",
       "</div>"
      ],
      "text/plain": [
       "      ID Group    Feature_1   Feature_2    Feature_3\n",
       "0  ID387     A  2763.201008  393.036013  6331.431994\n",
       "1  ID537     A  2769.151428  430.985819  6166.437079\n",
       "2  ID789     B  2184.810293  433.555808  4375.894975\n",
       "3  ID535     A  2901.237104  386.468786  6793.707033\n",
       "4  ID486     B  1997.882472  407.428128  3988.636126"
      ]
     },
     "execution_count": 59,
     "metadata": {},
     "output_type": "execute_result"
    }
   ],
   "source": [
    "data.head()"
   ]
  },
  {
   "cell_type": "markdown",
   "id": "4cf66a6f",
   "metadata": {},
   "source": [
    "### Samples greater than 3000"
   ]
  },
  {
   "cell_type": "code",
   "execution_count": 60,
   "id": "9e13bd4c",
   "metadata": {},
   "outputs": [
    {
     "name": "stdout",
     "output_type": "stream",
     "text": [
      "samples greater than 3000: 38\n"
     ]
    }
   ],
   "source": [
    "from scipy.stats import norm\n",
    "\n",
    "mean_4 = 2500\n",
    "std_dev = 300\n",
    "\n",
    "greater_3000 = 1 - norm.cdf((3000 - mean_4) / std_dev)\n",
    "samples_greater_3000 = round( n * greater_3000)\n",
    "\n",
    "print(\"samples greater than 3000:\", samples_greater_3000)\n"
   ]
  },
  {
   "cell_type": "markdown",
   "id": "aefb1124",
   "metadata": {},
   "source": [
    "### How many samples did you actually find where Feature_1 is greater than 3000?"
   ]
  },
  {
   "cell_type": "code",
   "execution_count": 47,
   "id": "673784eb",
   "metadata": {},
   "outputs": [
    {
     "data": {
      "text/plain": [
       "37"
      ]
     },
     "execution_count": 47,
     "metadata": {},
     "output_type": "execute_result"
    }
   ],
   "source": [
    "sum(data['Feature_1']>3000)"
   ]
  },
  {
   "cell_type": "markdown",
   "id": "a1090b7b",
   "metadata": {},
   "source": [
    "### . Group the dataset by the Group field and compute the mean and standard deviation of Feature_3 within each group"
   ]
  },
  {
   "cell_type": "code",
   "execution_count": 48,
   "id": "a31b6982",
   "metadata": {},
   "outputs": [
    {
     "name": "stdout",
     "output_type": "stream",
     "text": [
      "              mean         std\n",
      "Group                         \n",
      "A      8042.519965  913.212915\n",
      "B      7493.084157  740.930977\n",
      "C       377.303335  438.845094\n"
     ]
    }
   ],
   "source": [
    "groupdata = data.groupby('Group')['Feature_3'].agg(['mean', 'std'])\n",
    "\n",
    "print(groupdata)"
   ]
  },
  {
   "cell_type": "markdown",
   "id": "4041ff03",
   "metadata": {},
   "source": [
    "### Make a scatterplot of Feature_3 vs Feature_1"
   ]
  },
  {
   "cell_type": "code",
   "execution_count": 49,
   "id": "5274668f",
   "metadata": {},
   "outputs": [
    {
     "data": {
      "image/png": "[encoded data removed]",
      "text/plain": [
       "<Figure size 640x480 with 1 Axes>"
      ]
     },
     "metadata": {},
     "output_type": "display_data"
    }
   ],
   "source": [
    "plt.scatter(data['Feature_1'], data['Feature_3'])\n",
    "plt.xlabel('Feature_1')\n",
    "plt.ylabel('Feature_3')\n",
    "plt.title('Scatterplot of Feature_3 vs Feature_1')\n",
    "plt.show()"
   ]
  },
  {
   "cell_type": "markdown",
   "id": "13c5b4b5",
   "metadata": {},
   "source": [
    "Dumping the data frame into data.csv file."
   ]
  },
  {
   "cell_type": "code",
   "execution_count": 50,
   "id": "1e700d20",
   "metadata": {},
   "outputs": [],
   "source": [
    "data.to_csv('fake_data.csv', index=False)"
   ]
  },
  {
   "cell_type": "code",
   "execution_count": null,
   "id": "8c7b2e69",
   "metadata": {},
   "outputs": [],
   "source": []
  }
 ],
 "metadata": {
  "kernelspec": {
   "display_name": "Python 3 (ipykernel)",
   "language": "python",
   "name": "python3"
  },
  "language_info": {
   "codemirror_mode": {
    "name": "ipython",
    "version": 3
   },
   "file_extension": ".py",
   "mimetype": "text/x-python",
   "name": "python",
   "nbconvert_exporter": "python",
   "pygments_lexer": "ipython3",
   "version": "3.10.9"
  }
 },
 "nbformat": 4,
 "nbformat_minor": 5
}
